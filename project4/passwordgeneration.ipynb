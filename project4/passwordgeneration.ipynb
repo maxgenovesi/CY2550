{
 "cells": [
  {
   "cell_type": "code",
   "execution_count": 3,
   "metadata": {},
   "outputs": [
    {
     "name": "stderr",
     "output_type": "stream",
     "text": [
      "usage: ipykernel_launcher.py [-h] [-w WORDS] [-c CAPS] [-n NUMBERS]\n",
      "                             [-s SYMBOLS]\n",
      "ipykernel_launcher.py: error: unrecognized arguments: -f /Users/maxgenovesi/Library/Jupyter/runtime/kernel-d28fcbaa-7312-4aa3-a6ce-6fa46b175e8d.json\n"
     ]
    },
    {
     "ename": "SystemExit",
     "evalue": "2",
     "output_type": "error",
     "traceback": [
      "An exception has occurred, use %tb to see the full traceback.\n",
      "\u001b[0;31mSystemExit\u001b[0m\u001b[0;31m:\u001b[0m 2\n"
     ]
    }
   ],
   "source": [
    "import random\n",
    "import argparse\n",
    "\n",
    "def generate_password(wordlist, num_words, num_caps, num_numbers, num_symbols):\n",
    "    # Reads the supplied wordlist\n",
    "    with open('words.txt') as f:\n",
    "        word_list = [word.strip() for word in f]\n",
    "    password = '-'.join([random.choice(word_list) for i in range(4)])\n",
    "    return password.lower()\n",
    "\n",
    "    # Chooses random words\n",
    "    selected_words = random.sample(words, num_words)\n",
    "\n",
    "    # Chooses random capitalizations\n",
    "    for i in range(num_caps):\n",
    "        word_index = random.randint(0, num_words - 1)\n",
    "        selected_words[word_index] = selected_words[word_index].capitalize()\n",
    "\n",
    "    # Chooses random numbers\n",
    "    for i in range(num_numbers):\n",
    "        word_index = random.randint(0, num_words - 1)\n",
    "        position = random.randint(0, len(selected_words[word_index]))\n",
    "        selected_words[word_index] = selected_words[word_index][:position] + str(random.randint(0, 9)) + selected_words[word_index][position:]\n",
    "\n",
    "    # Chooses random sybols\n",
    "    symbols = '~!@#$%^&*.:;'\n",
    "    for i in range(num_symbols):\n",
    "        word_index = random.randint(0, num_words - 1)\n",
    "        position = random.randint(0, len(selected_words[word_index]))\n",
    "        selected_words[word_index] = selected_words[word_index][:position] + random.choice(symbols) + selected_words[word_index][position:]\n",
    "\n",
    "    # Joins the words\n",
    "    password = ''.join(selected_words)\n",
    "\n",
    "    return password\n",
    "\n",
    "if __name__ == '__main__':\n",
    "    parser = argparse.ArgumentParser(description='Generate a secure, memorable password using the XKCD method')\n",
    "    parser.add_argument('-w', '--words', type=int, default=4, help='include WORDS words in the password (default=4)')\n",
    "    parser.add_argument('-c', '--caps', type=int, default=0, help='capitalize the first letter of CAPS random words (default=0)')\n",
    "    parser.add_argument('-n', '--numbers', type=int, default=0, help='insert NUMBERS random numbers in the password (default=0)')\n",
    "    parser.add_argument('-s', '--symbols', type=int, default=0, help='insert SYMBOLS random symbols in the password (default=0)')\n",
    "    args = parser.parse_args()\n",
    "\n",
    "    password = generate_password('words.txt', args.words, args.caps, args.numbers, args.symbols)\n",
    "    print(password)\n"
   ]
  }
 ],
 "metadata": {
  "kernelspec": {
   "display_name": "Python 3.9.6 64-bit",
   "language": "python",
   "name": "python3"
  },
  "language_info": {
   "codemirror_mode": {
    "name": "ipython",
    "version": 3
   },
   "file_extension": ".py",
   "mimetype": "text/x-python",
   "name": "python",
   "nbconvert_exporter": "python",
   "pygments_lexer": "ipython3",
   "version": "3.9.6"
  },
  "orig_nbformat": 4,
  "vscode": {
   "interpreter": {
    "hash": "31f2aee4e71d21fbe5cf8b01ff0e069b9275f58929596ceb00d14d90e3e16cd6"
   }
  }
 },
 "nbformat": 4,
 "nbformat_minor": 2
}
